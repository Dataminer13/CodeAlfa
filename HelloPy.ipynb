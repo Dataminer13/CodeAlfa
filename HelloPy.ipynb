{
 "cells": [
  {
   "cell_type": "code",
   "execution_count": 11,
   "metadata": {},
   "outputs": [
    {
     "name": "stdout",
     "output_type": "stream",
     "text": [
      "The total of the 2 numbers is : 45.230000000000004\n"
     ]
    }
   ],
   "source": [
    "#name = input(\"What is your name?\")\n",
    "#print(\"Hello \"+name.title()+\", this is our first Python program.\")\n",
    "\n",
    "num1=20.23\n",
    "num2=25\n",
    "print(\"The total of the 2 numbers is : \"+ str(num1+num2))"
   ]
  }
 ],
 "metadata": {
  "kernelspec": {
   "display_name": "Python 3",
   "language": "python",
   "name": "python3"
  },
  "language_info": {
   "codemirror_mode": {
    "name": "ipython",
    "version": 3
   },
   "file_extension": ".py",
   "mimetype": "text/x-python",
   "name": "python",
   "nbconvert_exporter": "python",
   "pygments_lexer": "ipython3",
   "version": "3.12.6"
  }
 },
 "nbformat": 4,
 "nbformat_minor": 2
}
